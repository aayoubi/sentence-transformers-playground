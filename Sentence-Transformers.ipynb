{
 "cells": [
  {
   "cell_type": "code",
   "execution_count": 9,
   "id": "26b28b33",
   "metadata": {},
   "outputs": [],
   "source": [
    "from sentence_transformers import SentenceTransformer, util\n",
    "import torch\n",
    "\n",
    "embedder = SentenceTransformer('sentence-transformers/paraphrase-multilingual-MiniLM-L12-v2')\n",
    "\n",
    "def semantic_search(queries, corpus_embeddings, top_k):\n",
    "    for query in queries:\n",
    "        print('searching for similarities with: {}'.format(query))\n",
    "        query_embedding = embedder.encode(query, convert_to_tensor=True)\n",
    "        hits = util.semantic_search(query_embedding, corpus_embeddings, top_k=top_k)\n",
    "        hits = hits[0]\n",
    "        for hit in hits:\n",
    "            print('- ', corpus[hit['corpus_id']], \"(Score: {:.4f})\".format(hit['score']))"
   ]
  },
  {
   "cell_type": "code",
   "execution_count": 15,
   "id": "c5a9fa6e",
   "metadata": {},
   "outputs": [
    {
     "name": "stdout",
     "output_type": "stream",
     "text": [
      "searching for similarities with: A man is eating pasta.\n",
      "-  A man is eating food. (Score: 0.6734)\n",
      "-  A man is eating a piece of bread. (Score: 0.4269)\n",
      "-  A man is riding a horse. (Score: 0.2086)\n",
      "-  A man is riding a white horse on an enclosed ground. (Score: 0.1020)\n",
      "-  A cheetah is running behind its prey. (Score: 0.0566)\n"
     ]
    }
   ],
   "source": [
    "queries = ['A man is eating pasta.']\n",
    "\n",
    "corpus = ['A man is eating food.',\n",
    "          'A man is eating a piece of bread.',\n",
    "          'The girl is carrying a baby.',\n",
    "          'A man is riding a horse.',\n",
    "          'A woman is playing violin.',\n",
    "          'Two men pushed carts through the woods.',\n",
    "          'A man is riding a white horse on an enclosed ground.',\n",
    "          'A monkey is playing drums.',\n",
    "          'A cheetah is running behind its prey.']\n",
    "\n",
    "corpus_embeddings = embedder.encode(corpus, convert_to_tensor=True)\n",
    "semantic_search(queries, corpus_embeddings, 5)"
   ]
  },
  {
   "cell_type": "code",
   "execution_count": 22,
   "id": "9e446a73",
   "metadata": {},
   "outputs": [
    {
     "name": "stdout",
     "output_type": "stream",
     "text": [
      "searching for similarities with: a man is eating pasta\n",
      "-  الرجل يأكل طعام (Score: 0.6864)\n",
      "-  الرجل يأكل خبز (Score: 0.4017)\n",
      "-  السعدان يأكل موزة (Score: 0.1844)\n",
      "searching for similarities with: horseback riding\n",
      "-  الرجل يمتطي الحصان (Score: 0.7628)\n",
      "-  السعدان يأكل موزة (Score: 0.2227)\n",
      "-  السعدان يلعب مع القطة (Score: 0.0845)\n",
      "searching for similarities with: stomach ache\n",
      "-  المرأة لديها وجع في الرأس (Score: 0.2064)\n",
      "-  الرجل يأكل طعام (Score: 0.1998)\n",
      "-  السعدان يأكل موزة (Score: 0.1638)\n"
     ]
    }
   ],
   "source": [
    "queries = ['a man is eating pasta', 'horseback riding', 'stomach ache']\n",
    "\n",
    "corpus = ['الرجل يأكل طعام',\n",
    "          'الرجل يأكل خبز',\n",
    "          'البنت تحمل طفلها',\n",
    "          'الرجل يمتطي الحصان',\n",
    "          'المرأة تعزف على الغيتار',\n",
    "          'المرأة لديها وجع في الرأس',\n",
    "          'السعدان يأكل موزة',\n",
    "          'السعدان يلعب مع القطة']\n",
    "\n",
    "corpus_embeddings = embedder.encode(corpus, convert_to_tensor=True)\n",
    "semantic_search(queries, corpus_embeddings, 3)"
   ]
  },
  {
   "cell_type": "code",
   "execution_count": 23,
   "id": "84680010",
   "metadata": {},
   "outputs": [
    {
     "name": "stdout",
     "output_type": "stream",
     "text": [
      "searching for similarities with: الرجل يأكل طعام\n",
      "-  A man is eating food. (Score: 0.9802)\n",
      "-  A man is eating a piece of bread. (Score: 0.7294)\n",
      "-  A man is riding a horse. (Score: 0.2755)\n",
      "-  A man is riding a white horse on an enclosed ground. (Score: 0.1723)\n",
      "-  A monkey is playing drums. (Score: 0.0750)\n",
      "searching for similarities with: الرجل يمتطي الحصان\n",
      "-  A man is riding a horse. (Score: 0.8233)\n",
      "-  A man is riding a white horse on an enclosed ground. (Score: 0.6816)\n",
      "-  A cheetah is running behind its prey. (Score: 0.2546)\n",
      "-  Two men pushed carts through the woods. (Score: 0.2129)\n",
      "-  A man is eating food. (Score: 0.1383)\n",
      "searching for similarities with: وجع في الرأس\n",
      "-  A monkey is playing drums. (Score: 0.2033)\n",
      "-  A man is eating a piece of bread. (Score: 0.1074)\n",
      "-  A cheetah is running behind its prey. (Score: 0.0895)\n",
      "-  A man is riding a white horse on an enclosed ground. (Score: 0.0477)\n",
      "-  Two men pushed carts through the woods. (Score: 0.0431)\n"
     ]
    }
   ],
   "source": [
    "queries = ['الرجل يأكل طعام', 'الرجل يمتطي الحصان', 'وجع في الرأس']\n",
    "\n",
    "corpus = ['A man is eating food.',\n",
    "          'A man is eating a piece of bread.',\n",
    "          'The girl is carrying a baby.',\n",
    "          'A man is riding a horse.',\n",
    "          'A woman is playing violin.',\n",
    "          'Two men pushed carts through the woods.',\n",
    "          'A man is riding a white horse on an enclosed ground.',\n",
    "          'A monkey is playing drums.',\n",
    "          'A cheetah is running behind its prey.']\n",
    "\n",
    "corpus_embeddings = embedder.encode(corpus, convert_to_tensor=True)\n",
    "semantic_search(queries, corpus_embeddings, 5)"
   ]
  }
 ],
 "metadata": {
  "kernelspec": {
   "display_name": "Python 3 (ipykernel)",
   "language": "python",
   "name": "python3"
  },
  "language_info": {
   "codemirror_mode": {
    "name": "ipython",
    "version": 3
   },
   "file_extension": ".py",
   "mimetype": "text/x-python",
   "name": "python",
   "nbconvert_exporter": "python",
   "pygments_lexer": "ipython3",
   "version": "3.9.6"
  }
 },
 "nbformat": 4,
 "nbformat_minor": 5
}
